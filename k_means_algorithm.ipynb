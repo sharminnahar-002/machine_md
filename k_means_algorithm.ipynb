{
  "nbformat": 4,
  "nbformat_minor": 0,
  "metadata": {
    "colab": {
      "provenance": [],
      "authorship_tag": "ABX9TyNyhzPS54rAEIhrML5rBO9/",
      "include_colab_link": true
    },
    "kernelspec": {
      "name": "python3",
      "display_name": "Python 3"
    },
    "language_info": {
      "name": "python"
    }
  },
  "cells": [
    {
      "cell_type": "markdown",
      "metadata": {
        "id": "view-in-github",
        "colab_type": "text"
      },
      "source": [
        "<a href=\"https://colab.research.google.com/github/sharminnahar-002/machine_md/blob/main/k_means_algorithm.ipynb\" target=\"_parent\"><img src=\"https://colab.research.google.com/assets/colab-badge.svg\" alt=\"Open In Colab\"/></a>"
      ]
    },
    {
      "cell_type": "code",
      "execution_count": 17,
      "metadata": {
        "id": "XNLFdohFK6cC"
      },
      "outputs": [],
      "source": [
        "import numpy as np\n",
        "from matplotlib import pyplot as plt\n"
      ]
    },
    {
      "cell_type": "code",
      "source": [
        "x=np.array([185,170,168,179,182,188])\n",
        "y=np.array([72,56,60,68,72,77])\n",
        "c1=(x[0],y[0])\n",
        "c1_old=c1\n",
        "c2=(x[1],y[1])\n",
        "c2_old=c2\n",
        "distance_1=[]\n",
        "distance_2=[]\n",
        "print(x,y,c1,c2)"
      ],
      "metadata": {
        "colab": {
          "base_uri": "https://localhost:8080/"
        },
        "id": "dK4-G3FDLSIW",
        "outputId": "fb1047bd-9674-4265-d4c9-2521a4932734"
      },
      "execution_count": 18,
      "outputs": [
        {
          "output_type": "stream",
          "name": "stdout",
          "text": [
            "[185 170 168 179 182 188] [72 56 60 68 72 77] (185, 72) (170, 56)\n"
          ]
        }
      ]
    },
    {
      "cell_type": "code",
      "source": [
        "for j in range(1, 5):\n",
        "    if c1_old == c1 and c2_old == c2 and j != 1:\n",
        "        break\n",
        "    else:\n",
        "        distance_1 = []\n",
        "        distance_2 = []\n",
        "        for i in range(0, len(x)):\n",
        "            distance_1.append(np.sqrt((c1[0] - x[i]) ** 2 + (c1[1] - y[i]) ** 2))\n",
        "            distance_2.append(np.sqrt((c2[0] - x[i]) ** 2 + (c2[1] - y[i]) ** 2))\n",
        "\n",
        "        print(\"Distance 1:\", distance_1)\n",
        "        print(\"Distance 2:\", distance_2)\n",
        "\n",
        "        result = []\n",
        "        for i in range(0, len(x)):\n",
        "            if distance_1[i] < distance_2[i]:\n",
        "                result.append(1)\n",
        "            else:\n",
        "                result.append(2)\n",
        "\n",
        "        print(\"Result:\", result)\n",
        "\n",
        "        x_sum_1 = 0\n",
        "        y_sum_1 = 0\n",
        "        count_1 = 0\n",
        "        x_sum_2 = 0\n",
        "        y_sum_2 = 0\n",
        "        count_2 = 0\n",
        "\n",
        "        for i in range(0, len(x)):\n",
        "            if result[i] == 1:\n",
        "                x_sum_1 += x[i]\n",
        "                y_sum_1 += y[i]\n",
        "                count_1 += 1\n",
        "            else:\n",
        "                x_sum_2 += x[i]\n",
        "                y_sum_2 += y[i]\n",
        "                count_2 += 1\n",
        "\n",
        "        c1_old = c1\n",
        "        c2_old = c2\n",
        "\n",
        "        # Assuming you have some values for x_sum_1, y_sum_1, count_1, x_sum_2, y_sum_2, count_2\n",
        "        c1 = (x_sum_1 / count_1, y_sum_1 / count_1)\n",
        "        c2 = (x_sum_2 / count_2, y_sum_2 / count_2)\n",
        "\n",
        "        # Print the results\n",
        "        print(\"Centroid 1:\", c1)\n",
        "        print(\"Centroid 2:\", c2)\n",
        "\n",
        "\n",
        "\n",
        "\n",
        "\n",
        "\n",
        "\n"
      ],
      "metadata": {
        "colab": {
          "base_uri": "https://localhost:8080/"
        },
        "id": "9d8vrZXFM9qb",
        "outputId": "d131f2e8-48f6-49c6-ee37-6f4029658e25"
      },
      "execution_count": 46,
      "outputs": [
        {
          "output_type": "stream",
          "name": "stdout",
          "text": [
            "Distance 1: [7.769241347204451, 14.400038580195226, 13.039469996045758, 0.6009252125773368, 5.600099205470486, 13.317699167315324]\n",
            "Distance 2: [21.93171219946131, 0.0, 4.47213595499958, 15.0, 20.0, 27.65863337187866]\n",
            "Result: [1, 2, 2, 1, 1, 1]\n",
            "Centroid 1: (183.5, 72.25)\n",
            "Centroid 2: (169.0, 58.0)\n",
            "Distance 1: [1.5206906325745548, 21.126109438322995, 19.756328100130347, 6.189709201569974, 1.5206906325745548, 6.5431261641512]\n",
            "Distance 2: [21.2602916254693, 2.23606797749979, 2.23606797749979, 14.142135623730951, 19.1049731745428, 26.870057685088806]\n",
            "Result: [1, 2, 2, 1, 1, 1]\n",
            "Centroid 1: (183.5, 72.25)\n",
            "Centroid 2: (169.0, 58.0)\n"
          ]
        }
      ]
    },
    {
      "cell_type": "code",
      "source": [
        "\n",
        "\n",
        "\n",
        "\n",
        "\n",
        ""
      ],
      "metadata": {
        "id": "lHJ_7n-MRGg5"
      },
      "execution_count": 35,
      "outputs": []
    }
  ]
}